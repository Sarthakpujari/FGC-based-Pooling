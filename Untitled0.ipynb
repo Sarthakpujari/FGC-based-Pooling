{
 "cells": [
  {
   "cell_type": "code",
   "execution_count": null,
   "metadata": {
    "colab": {
     "base_uri": "https://localhost:8080/"
    },
    "id": "eg5lQBfTx-ql",
    "outputId": "be48ca7a-f1de-4fea-dccf-79f2ee010bc9"
   },
   "outputs": [],
   "source": [
    "!pip install torch_geometric"
   ]
  },
  {
   "cell_type": "code",
   "execution_count": 2,
   "metadata": {
    "id": "HTt7XmM4A_RA"
   },
   "outputs": [],
   "source": []
  },
  {
   "cell_type": "code",
   "execution_count": 2,
   "metadata": {
    "colab": {
     "base_uri": "https://localhost:8080/"
    },
    "id": "1SGEhLjsxzcD",
    "outputId": "8eab7af1-16a5-4719-8d6a-0642e1a7b470"
   },
   "outputs": [
    {
     "name": "stderr",
     "output_type": "stream",
     "text": [
      "C:\\Users\\HP\\anaconda3\\python.exe: can't find '__main__' module in 'C:\\\\Users\\\\HP\\\\Downloads\\\\The-expressive-power-of-pooling-in-GNNs-main'\n"
     ]
    }
   ],
   "source": [
    "!python C:\\Users\\HP\\Downloads\\The-expressive-power-of-pooling-in-GNNs-main (1)\\The-expressive-power-of-pooling-in-GNNs-main\\main.py --pooling fgc --epochs 10"
   ]
  },
  {
   "cell_type": "code",
   "execution_count": null,
   "metadata": {
    "id": "XyuoqsYayjUk"
   },
   "outputs": [],
   "source": []
  }
 ],
 "metadata": {
  "colab": {
   "provenance": []
  },
  "kernelspec": {
   "display_name": "test_gnn",
   "language": "python",
   "name": "test_gnn"
  },
  "language_info": {
   "codemirror_mode": {
    "name": "ipython",
    "version": 3
   },
   "file_extension": ".py",
   "mimetype": "text/x-python",
   "name": "python",
   "nbconvert_exporter": "python",
   "pygments_lexer": "ipython3",
   "version": "3.10.8"
  }
 },
 "nbformat": 4,
 "nbformat_minor": 1
}
